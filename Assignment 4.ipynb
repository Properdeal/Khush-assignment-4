{
 "cells": [
  {
   "cell_type": "code",
   "execution_count": 9,
   "id": "bb2eff5f",
   "metadata": {},
   "outputs": [
    {
     "name": "stdout",
     "output_type": "stream",
     "text": [
      "Enter the Marks 86\n",
      "Your Grade is ‘A’\n"
     ]
    }
   ],
   "source": [
    "#  1\n",
    "\n",
    "MyGrade = int(input(\"Enter the Marks \"))\n",
    "\n",
    "if 0<= MyGrade :\n",
    "    if 80< MyGrade :\n",
    "            print(\"Your Grade is ‘A’\")\n",
    "    elif 60< MyGrade <=80 :\n",
    "            print(\"Your Grade is ‘B’\")\n",
    "    elif 50< MyGrade <=60 :\n",
    "            print(\"Your Grade is ‘C’\")\n",
    "    elif 45< MyGrade <=50 :\n",
    "            print(\"Your Grade is ‘D’\")\n",
    "    elif 25<= MyGrade <=45 :\n",
    "            print(\"Your Grade is ‘E’\")\n",
    "    elif 0<= MyGrade <=25 :\n",
    "            print(\"Your Grade is ‘F’\")\n",
    "    else:\n",
    "        pass\n",
    "else:\n",
    "     print(\"Enter a Valid Marks\")"
   ]
  },
  {
   "cell_type": "code",
   "execution_count": 2,
   "id": "0c00fc21",
   "metadata": {},
   "outputs": [
    {
     "name": "stdout",
     "output_type": "stream",
     "text": [
      "Enter year: 2003\n",
      "2003 is not a Leap Year\n"
     ]
    }
   ],
   "source": [
    "# 2\n",
    "\n",
    "LeapYear = int(input(\"Enter year: \"))\n",
    "\n",
    "if LeapYear % 400 == 0 :\n",
    "    print(LeapYear, \"is a Leap Year\")\n",
    "elif LeapYear % 100 == 0 :\n",
    "    print(LeapYear, \"is not a Leap Year\")\n",
    "elif LeapYear % 4 == 0 :\n",
    "    print(LeapYear, \"is a Leap Year\")\n",
    "else :\n",
    "    print(LeapYear, \"is not a Leap Year\")"
   ]
  },
  {
   "cell_type": "code",
   "execution_count": 8,
   "id": "5999636d",
   "metadata": {},
   "outputs": [
    {
     "name": "stdout",
     "output_type": "stream",
     "text": [
      "question 1 = 6 * 9\n",
      "enter your answer54\n",
      "correct answer\n",
      "question 2 = 7 * 5\n",
      "enter your answer35\n",
      "correct answer\n",
      "question 3 = 9 * 6\n",
      "enter your answer55\n",
      "incorrect answer. the correct answer is 54\n",
      "question 4 = 4 * 5\n",
      "enter your answer0\n",
      "incorrect answer. the correct answer is 20\n",
      "question 5 = 3 * 6\n",
      "enter your answer18\n",
      "correct answer\n",
      "question 6 = 6 * 10\n",
      "enter your answer60\n",
      "correct answer\n",
      "question 7 = 8 * 2\n",
      "enter your answer16\n",
      "correct answer\n",
      "question 8 = 7 * 6\n",
      "enter your answer42\n",
      "correct answer\n",
      "question 9 = 5 * 10\n",
      "enter your answer50\n",
      "correct answer\n",
      "question 10 = 9 * 6\n",
      "enter your answer46\n",
      "incorrect answer. the correct answer is 54\n"
     ]
    }
   ],
   "source": [
    "# 3\n",
    "\n",
    "import random\n",
    "i=0\n",
    "while i<10:\n",
    "    i+=1\n",
    "    a=random.randint(0,10)\n",
    "    b=random.randint(0,10)\n",
    "    print(\"question\",i,\"=\",a,\"*\",b)\n",
    "    ans=int(input(\"enter your answer\"))\n",
    "    \n",
    "    if ans==a*b:\n",
    "        print(\"correct answer\")\n",
    "    else:\n",
    "        print(\"incorrect answer. the correct answer is\",a*b)"
   ]
  },
  {
   "cell_type": "code",
   "execution_count": 4,
   "id": "02cda8ce",
   "metadata": {},
   "outputs": [
    {
     "name": "stdout",
     "output_type": "stream",
     "text": [
      "177 candies are in the bowl!\n"
     ]
    }
   ],
   "source": [
    "# 4\n",
    "\n",
    "for TotalCandies in range(200):\n",
    "    if (TotalCandies % 5 != 2):\n",
    "        continue\n",
    "    if (TotalCandies % 6 != 3):\n",
    "        continue\n",
    "    if (TotalCandies % 7 != 2):\n",
    "        continue\n",
    "\n",
    "    print(str(TotalCandies) + \" candies are in the bowl!\")\n",
    "    break"
   ]
  }
 ],
 "metadata": {
  "kernelspec": {
   "display_name": "Python 3 (ipykernel)",
   "language": "python",
   "name": "python3"
  },
  "language_info": {
   "codemirror_mode": {
    "name": "ipython",
    "version": 3
   },
   "file_extension": ".py",
   "mimetype": "text/x-python",
   "name": "python",
   "nbconvert_exporter": "python",
   "pygments_lexer": "ipython3",
   "version": "3.9.13"
  }
 },
 "nbformat": 4,
 "nbformat_minor": 5
}
